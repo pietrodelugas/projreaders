{
 "cells": [
  {
   "cell_type": "code",
   "execution_count": 47,
   "metadata": {},
   "outputs": [],
   "source": [
    "import estrai_con_somma as es\n",
    "import numpy as np\n"
   ]
  },
  {
   "cell_type": "code",
   "execution_count": 48,
   "metadata": {},
   "outputs": [],
   "source": [
    "read_args = {\n",
    "    'iat':  1,\n",
    "    'iwfc': 4,\n",
    "    'labels': [\"\",\"s_j0.5\", \n",
    "               \"p_j1.5\",\n",
    "               \"p_j0.5\",\n",
    "               \"d_j2.5\",\n",
    "               \"d_j1.5\",\n",
    "               \"s_j0.5\"],\n",
    "               'proj_dir':\"../31_XGX/\",\n",
    "               'filprojroot':\"pdos31_XGX\"}\n",
    " "
   ]
  },
  {
   "cell_type": "code",
   "execution_count": 49,
   "metadata": {},
   "outputs": [],
   "source": [
    "Emin,Emax,data = es.read_data(**read_args)"
   ]
  },
  {
   "cell_type": "code",
   "execution_count": 50,
   "metadata": {},
   "outputs": [
    {
     "name": "stdout",
     "output_type": "stream",
     "text": [
      "ciao\n"
     ]
    }
   ],
   "source": [
    "sigma = np.array(list(map(lambda d: [d.sigmax, d.sigmay, d.sigmax], data)))\n",
    "if False:\n",
    "    pass\n",
    "elif True:\n",
    "    print(\"ciao\") "
   ]
  },
  {
   "cell_type": "code",
   "execution_count": 51,
   "metadata": {},
   "outputs": [],
   "source": [
    "prova = es.MyDataArray(data)"
   ]
  },
  {
   "cell_type": "code",
   "execution_count": 52,
   "metadata": {},
   "outputs": [
    {
     "data": {
      "text/plain": [
       "<estrai_con_somma.MyData at 0x7fded2cb3d00>"
      ]
     },
     "execution_count": 52,
     "metadata": {},
     "output_type": "execute_result"
    }
   ],
   "source": [
    "d = data[250]+data[250]\n",
    "d"
   ]
  },
  {
   "cell_type": "code",
   "execution_count": 53,
   "metadata": {},
   "outputs": [],
   "source": [
    "p = object.__new__(es.MyData)\n",
    "p.ik  = data[40].ik\n",
    "p.pdos = data[40].pdos\n",
    "p.energy = data[40].energy"
   ]
  },
  {
   "cell_type": "code",
   "execution_count": 54,
   "metadata": {},
   "outputs": [
    {
     "data": {
      "text/plain": [
       "estrai_con_somma.MyData"
      ]
     },
     "execution_count": 54,
     "metadata": {},
     "output_type": "execute_result"
    }
   ],
   "source": [
    "type(p)"
   ]
  },
  {
   "cell_type": "code",
   "execution_count": 55,
   "metadata": {},
   "outputs": [
    {
     "data": {
      "text/plain": [
       "(0.0, 12.5, 0.0, 12.5)"
      ]
     },
     "execution_count": 55,
     "metadata": {},
     "output_type": "execute_result"
    }
   ],
   "source": [
    "d.pdos, d.energy,  data[250].pdos, data[250].energy"
   ]
  },
  {
   "cell_type": "code",
   "execution_count": 56,
   "metadata": {},
   "outputs": [
    {
     "data": {
      "text/plain": [
       "0.0"
      ]
     },
     "execution_count": 56,
     "metadata": {},
     "output_type": "execute_result"
    }
   ],
   "source": [
    "(data[250]*200).pdos"
   ]
  },
  {
   "cell_type": "code",
   "execution_count": 57,
   "metadata": {},
   "outputs": [],
   "source": [
    "with open('prova_scrittura_sigma','w') as fw:\n",
    "\tprova.writesigma(fw)\n",
    "with open('prova_scrittura_pdos','w') as fw:\n",
    "\tprova.writepdos(fw) \n"
   ]
  },
  {
   "cell_type": "code",
   "execution_count": 58,
   "metadata": {},
   "outputs": [],
   "source": [
    "iterator = zip(prova.ik, prova.energy, prova.sigma)"
   ]
  },
  {
   "cell_type": "code",
   "execution_count": 59,
   "metadata": {},
   "outputs": [
    {
     "data": {
      "text/plain": [
       "(1, 0.0, array([0., 0., 0.]))"
      ]
     },
     "execution_count": 59,
     "metadata": {},
     "output_type": "execute_result"
    }
   ],
   "source": [
    "next(iterator,None)"
   ]
  },
  {
   "cell_type": "code",
   "execution_count": 60,
   "metadata": {},
   "outputs": [],
   "source": [
    "def update_dict(d,i):\n",
    "\tres = d\n",
    "\tres.update({'iat':i})\n",
    "\treturn res \n",
    "  \n",
    "datalist = [es.MyDataArray(t[2]) for t in [es.read_data(**update_dict(read_args, i+1)) for i in range(10)]]"
   ]
  },
  {
   "cell_type": "code",
   "execution_count": 61,
   "metadata": {},
   "outputs": [],
   "source": [
    "L0 = 2.6254\n",
    "L  = 10.0\n",
    "def fac_of_n(n, L0, L):\n",
    "\treturn np.exp(-n*L0/L)\n",
    "facs = [fac_of_n(i+1,L0,L) for i in range(10)]\n",
    "total_data  =  [_[1]*_[0] for _ in zip(facs, datalist)]"
   ]
  },
  {
   "cell_type": "code",
   "execution_count": 62,
   "metadata": {},
   "outputs": [],
   "source": [
    "total_data = sum(total_data, total_data[0]*0.)*(1./sum(facs))"
   ]
  },
  {
   "cell_type": "code",
   "execution_count": 63,
   "metadata": {},
   "outputs": [],
   "source": [
    "with open('sommati_wfc4_sigma_YGY','w') as fw:\n",
    "\ttotal_data.writesigma(fw) "
   ]
  },
  {
   "cell_type": "code",
   "execution_count": 64,
   "metadata": {},
   "outputs": [],
   "source": [
    "with open('sommati_wfc4_flatband_YGY','w') as fw:\n",
    "\ttotal_data.writepdos(fw)"
   ]
  },
  {
   "cell_type": "code",
   "execution_count": null,
   "metadata": {},
   "outputs": [],
   "source": []
  }
 ],
 "metadata": {
  "kernelspec": {
   "display_name": ".venv",
   "language": "python",
   "name": "python3"
  },
  "language_info": {
   "codemirror_mode": {
    "name": "ipython",
    "version": 3
   },
   "file_extension": ".py",
   "mimetype": "text/x-python",
   "name": "python",
   "nbconvert_exporter": "python",
   "pygments_lexer": "ipython3",
   "version": "3.10.12"
  },
  "orig_nbformat": 4
 },
 "nbformat": 4,
 "nbformat_minor": 2
}

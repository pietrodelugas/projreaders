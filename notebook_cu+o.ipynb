{
 "cells": [
  {
   "cell_type": "code",
   "execution_count": 51,
   "metadata": {},
   "outputs": [],
   "source": [
    "import estrai_con_somma as es\n",
    "import numpy as np\n",
    "from pathlib import Path\n"
   ]
  },
  {
   "cell_type": "code",
   "execution_count": 52,
   "metadata": {},
   "outputs": [],
   "source": [
    "labels={'Cu':[\"\",\"s_j0.5\", \n",
    "           \"p_j1.5\",\n",
    "           \"p_j0.5\",\n",
    "           \"d_j2.5\",\n",
    "           \"d_j1.5\",\n",
    "           \"s_j0.5\"],\n",
    "\t\t 'O':[\"\",\"s_j0.5\",\n",
    "\t\t\t \"p_j0.5\",\n",
    "\t\t\t \"p_j1.5\"]\n",
    "}\n",
    "read_args = {\n",
    "    'iat':  1,\n",
    "    'iwfc': 3,\n",
    "\t'symbol': 'O',\n",
    "\t'labels':labels['O'],\n",
    "    'proj_dir':\"../Cu+O_surf/Yprojs/\",\n",
    "    'filprojroot':\"slab_soc_Y_pkdos\"}\n",
    " "
   ]
  },
  {
   "cell_type": "code",
   "execution_count": 53,
   "metadata": {},
   "outputs": [],
   "source": [
    "Emin,Emax,data = es.read_data(**read_args)"
   ]
  },
  {
   "cell_type": "code",
   "execution_count": 54,
   "metadata": {},
   "outputs": [],
   "source": [
    "arraydata = es.MyDataArray(data)"
   ]
  },
  {
   "cell_type": "code",
   "execution_count": 55,
   "metadata": {},
   "outputs": [],
   "source": [
    "writedatadir = Path(\"../Cu+O_surf/dati_grafici/Ydir/\")\n",
    "writedatadir.mkdir(parents=True, exist_ok=True)\n",
    "iat = read_args.get('iat')\n",
    "iwfc = read_args.get('iwfc')\n",
    "symbol = read_args.get('symbol') \n",
    "with open(writedatadir / f\"sigma_{symbol}{iat}_{iwfc}\",'w') as fw:\n",
    "\tarraydata.writesigma(fw)\n",
    "with open(writedatadir / f\"flatband_{symbol}{iat}_{iwfc}\",'w') as fw:\n",
    "\tarraydata.writepdos(fw) \n"
   ]
  }
 ],
 "metadata": {
  "kernelspec": {
   "display_name": ".venv",
   "language": "python",
   "name": "python3"
  },
  "language_info": {
   "codemirror_mode": {
    "name": "ipython",
    "version": 3
   },
   "file_extension": ".py",
   "mimetype": "text/x-python",
   "name": "python",
   "nbconvert_exporter": "python",
   "pygments_lexer": "ipython3",
   "version": "3.6.8"
  },
  "orig_nbformat": 4
 },
 "nbformat": 4,
 "nbformat_minor": 2
}
